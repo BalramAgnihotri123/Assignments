{
 "cells": [
  {
   "cell_type": "markdown",
   "id": "6258bcdd",
   "metadata": {},
   "source": [
    "## Importing Relevant libraries"
   ]
  },
  {
   "cell_type": "code",
   "execution_count": 82,
   "id": "ebcdcfd2",
   "metadata": {},
   "outputs": [],
   "source": [
    "import pandas as pd\n",
    "import numpy as np \n",
    "import sklearn\n",
    "import matplotlib.pyplot as plt\n",
    "import seaborn as sns\n",
    "from tqdm.auto import tqdm\n",
    "from statsmodels.stats.outliers_influence import variance_inflation_factor\n",
    "from sklearn.preprocessing import StandardScaler\n",
    "from sklearn.cluster import KMeans\n",
    "from sklearn.model_selection import train_test_split\n",
    "from sklearn.linear_model import LinearRegression\n",
    "from sklearn.tree import DecisionTreeRegressor\n",
    "from sklearn.ensemble import RandomForestRegressor\n",
    "from sklearn.model_selection import RandomizedSearchCV\n",
    "from pprint import pprint"
   ]
  },
  {
   "cell_type": "markdown",
   "id": "99531a66",
   "metadata": {},
   "source": [
    "## Preprocessing and Analysis of the data"
   ]
  },
  {
   "cell_type": "markdown",
   "id": "1584a6f2",
   "metadata": {},
   "source": [
    "Some columns can offset the final result beacuse of their magnitude, so we can normalize such columns for better results.\n",
    "\n",
    "Outliers can prevent the models to get the true gist of the data and this excess noise can divert the models parameters drastically, that is why it is better to get rid of such data points"
   ]
  },
  {
   "cell_type": "code",
   "execution_count": 21,
   "id": "9f84a0ec",
   "metadata": {},
   "outputs": [],
   "source": [
    "def remove_outliers(dataframe: pd.DataFrame,\n",
    "                    column_name: str) -> object:\n",
    "    \"\"\"\n",
    "    inputs in a dataframe df and a column to consider for outlier removal\n",
    "    returns a cleaned df with removed outliers\n",
    "    \"\"\"\n",
    "    q1 = dataframe[column_name].quantile(0.25)\n",
    "    q3 = dataframe[column_name].quantile(0.75)\n",
    "    iqr = q3 - q1\n",
    "    upper = np.where(dataframe[column_name] >= (q3 + 1.5 * iqr))\n",
    "    dataframe.drop(list(upper[0]),\n",
    "                   inplace=True)\n",
    "    dataframe = dataframe.reset_index().drop(\"index\",\n",
    "                                             axis=1)\n",
    "    return dataframe"
   ]
  },
  {
   "cell_type": "code",
   "execution_count": 22,
   "id": "658a5c20",
   "metadata": {},
   "outputs": [],
   "source": [
    "def scaling_columns(dataframe: pd.DataFrame,\n",
    "                    column_names: list):\n",
    "    scaler = StandardScaler()\n",
    "\n",
    "    scaled_column = dataframe[column_names].values\n",
    "    scaled_column = scaler.fit_transform(scaled_column.reshape(len(dataframe), len(column_names)))\n",
    "    dataframe[column_names] = scaled_column\n",
    "\n",
    "    return dataframe"
   ]
  },
  {
   "cell_type": "code",
   "execution_count": 23,
   "id": "d36820b9",
   "metadata": {},
   "outputs": [],
   "source": [
    "def loading_data():\n",
    "    \"\"\"\n",
    "    loads and returns a datset \n",
    "    \"\"\"\n",
    "    # Importing the dataset\n",
    "    df = pd.read_excel('Assignment01/Assignment-1_dataset.xlsx')\n",
    "    #print(df.columns)\n",
    "    # Cleaning and Preprocessing the dataset\n",
    "    # Creating a Price Column\n",
    "    df['prices'] = df['House size (sqft)'] * df['House price of unit area']  # Calculating total price of houses\n",
    "    return df"
   ]
  },
  {
   "cell_type": "code",
   "execution_count": 24,
   "id": "8c8194b9",
   "metadata": {},
   "outputs": [
    {
     "data": {
      "text/html": [
       "<div>\n",
       "<style scoped>\n",
       "    .dataframe tbody tr th:only-of-type {\n",
       "        vertical-align: middle;\n",
       "    }\n",
       "\n",
       "    .dataframe tbody tr th {\n",
       "        vertical-align: top;\n",
       "    }\n",
       "\n",
       "    .dataframe thead th {\n",
       "        text-align: right;\n",
       "    }\n",
       "</style>\n",
       "<table border=\"1\" class=\"dataframe\">\n",
       "  <thead>\n",
       "    <tr style=\"text-align: right;\">\n",
       "      <th></th>\n",
       "      <th>Transaction date</th>\n",
       "      <th>House Age</th>\n",
       "      <th>Distance from nearest Metro station (km)</th>\n",
       "      <th>Number of convenience stores</th>\n",
       "      <th>latitude</th>\n",
       "      <th>longitude</th>\n",
       "      <th>Number of bedrooms</th>\n",
       "      <th>House size (sqft)</th>\n",
       "      <th>House price of unit area</th>\n",
       "      <th>prices</th>\n",
       "    </tr>\n",
       "  </thead>\n",
       "  <tbody>\n",
       "    <tr>\n",
       "      <th>0</th>\n",
       "      <td>2012.916667</td>\n",
       "      <td>32.0</td>\n",
       "      <td>84.87882</td>\n",
       "      <td>10</td>\n",
       "      <td>24.98298</td>\n",
       "      <td>121.54024</td>\n",
       "      <td>1</td>\n",
       "      <td>575</td>\n",
       "      <td>37.9</td>\n",
       "      <td>21792.5</td>\n",
       "    </tr>\n",
       "    <tr>\n",
       "      <th>1</th>\n",
       "      <td>2012.916667</td>\n",
       "      <td>19.5</td>\n",
       "      <td>306.59470</td>\n",
       "      <td>9</td>\n",
       "      <td>24.98034</td>\n",
       "      <td>121.53951</td>\n",
       "      <td>2</td>\n",
       "      <td>1240</td>\n",
       "      <td>42.2</td>\n",
       "      <td>52328.0</td>\n",
       "    </tr>\n",
       "    <tr>\n",
       "      <th>2</th>\n",
       "      <td>2013.583333</td>\n",
       "      <td>13.3</td>\n",
       "      <td>561.98450</td>\n",
       "      <td>5</td>\n",
       "      <td>24.98746</td>\n",
       "      <td>121.54391</td>\n",
       "      <td>3</td>\n",
       "      <td>1060</td>\n",
       "      <td>47.3</td>\n",
       "      <td>50138.0</td>\n",
       "    </tr>\n",
       "    <tr>\n",
       "      <th>3</th>\n",
       "      <td>2013.500000</td>\n",
       "      <td>13.3</td>\n",
       "      <td>561.98450</td>\n",
       "      <td>5</td>\n",
       "      <td>24.98746</td>\n",
       "      <td>121.54391</td>\n",
       "      <td>2</td>\n",
       "      <td>875</td>\n",
       "      <td>54.8</td>\n",
       "      <td>47950.0</td>\n",
       "    </tr>\n",
       "    <tr>\n",
       "      <th>4</th>\n",
       "      <td>2012.833333</td>\n",
       "      <td>5.0</td>\n",
       "      <td>390.56840</td>\n",
       "      <td>5</td>\n",
       "      <td>24.97937</td>\n",
       "      <td>121.54245</td>\n",
       "      <td>1</td>\n",
       "      <td>491</td>\n",
       "      <td>43.1</td>\n",
       "      <td>21162.1</td>\n",
       "    </tr>\n",
       "  </tbody>\n",
       "</table>\n",
       "</div>"
      ],
      "text/plain": [
       "   Transaction date  House Age  Distance from nearest Metro station (km)  \\\n",
       "0       2012.916667       32.0                                  84.87882   \n",
       "1       2012.916667       19.5                                 306.59470   \n",
       "2       2013.583333       13.3                                 561.98450   \n",
       "3       2013.500000       13.3                                 561.98450   \n",
       "4       2012.833333        5.0                                 390.56840   \n",
       "\n",
       "   Number of convenience stores  latitude  longitude  Number of bedrooms  \\\n",
       "0                            10  24.98298  121.54024                   1   \n",
       "1                             9  24.98034  121.53951                   2   \n",
       "2                             5  24.98746  121.54391                   3   \n",
       "3                             5  24.98746  121.54391                   2   \n",
       "4                             5  24.97937  121.54245                   1   \n",
       "\n",
       "   House size (sqft)  House price of unit area   prices  \n",
       "0                575                      37.9  21792.5  \n",
       "1               1240                      42.2  52328.0  \n",
       "2               1060                      47.3  50138.0  \n",
       "3                875                      54.8  47950.0  \n",
       "4                491                      43.1  21162.1  "
      ]
     },
     "execution_count": 24,
     "metadata": {},
     "output_type": "execute_result"
    }
   ],
   "source": [
    "df = loading_data()\n",
    "df.head()"
   ]
  },
  {
   "cell_type": "markdown",
   "id": "caa60ae4",
   "metadata": {},
   "source": [
    "**Lets look at the features and how are they related to each other to preprocess the dataset**"
   ]
  },
  {
   "cell_type": "code",
   "execution_count": 25,
   "id": "c73a20f0",
   "metadata": {
    "scrolled": false
   },
   "outputs": [
    {
     "data": {
      "image/png": "[encoded data removed]",
      "text/plain": [
       "<Figure size 640x480 with 1 Axes>"
      ]
     },
     "metadata": {},
     "output_type": "display_data"
    }
   ],
   "source": [
    "plt.scatter(df.latitude.values,df.longitude.values,c=\"yellow\")\n",
    "plt.xlabel(\"Latitude\",fontsize=15)\n",
    "plt.ylabel(\"Longitude\",fontsize=15)\n",
    "plt.show()"
   ]
  },
  {
   "cell_type": "code",
   "execution_count": 26,
   "id": "730c11a7",
   "metadata": {},
   "outputs": [
    {
     "data": {
      "image/png": "[encoded data removed]",
      "text/plain": [
       "<Figure size 640x480 with 1 Axes>"
      ]
     },
     "metadata": {},
     "output_type": "display_data"
    }
   ],
   "source": [
    "plt.scatter(df['Distance from nearest Metro station (km)'],df.prices.values,c=\"black\")\n",
    "plt.show()"
   ]
  },
  {
   "cell_type": "code",
   "execution_count": 27,
   "id": "995f4034",
   "metadata": {},
   "outputs": [
    {
     "data": {
      "image/png": "[encoded data removed]",
      "text/plain": [
       "<Figure size 600x300 with 1 Axes>"
      ]
     },
     "metadata": {},
     "output_type": "display_data"
    }
   ],
   "source": [
    "plt.figure(figsize=(6,3))\n",
    "sns.kdeplot(df['prices'],\n",
    "            fill=True,\n",
    "           color = \"red\")\n",
    "plt.show()"
   ]
  },
  {
   "cell_type": "code",
   "execution_count": 28,
   "id": "d7ed5315",
   "metadata": {
    "scrolled": true
   },
   "outputs": [
    {
     "data": {
      "image/png": "[encoded data removed]",
      "text/plain": [
       "<Figure size 500x300 with 1 Axes>"
      ]
     },
     "metadata": {},
     "output_type": "display_data"
    }
   ],
   "source": [
    "plt.figure(figsize=(5,3))\n",
    "sns.countplot(x =df[\"Number of bedrooms\"])\n",
    "plt.show()\n",
    "\n",
    "# This column is balanced"
   ]
  },
  {
   "cell_type": "markdown",
   "id": "7efd22be",
   "metadata": {},
   "source": [
    "*  **We can see that Location(latitude-longitude) are making clusters, So it is savvy to make them into a seperate column that will capture the value of both the column  by K-means clustering.**\n",
    "\n",
    "*  **Distance from nearest Metro station creats a logarithmic curve with price, which means that the near the metro station is the pricy the house is. More or less this doesn't have anything directly to do with distance from metro station but the fact that metro station are mostly located in places that are moving places and market areas with high demand of land.**\n",
    "\n",
    "*  **The dataset is unbalanced as we have more data of low price houses and less data of expensive houses with some extreme outliers. It is best to get rid of the Outliers.**"
   ]
  },
  {
   "cell_type": "code",
   "execution_count": 29,
   "id": "5aeff4a3",
   "metadata": {},
   "outputs": [],
   "source": [
    "def find_categorical_percentages(df:pd.DataFrame,\n",
    "                                 column_name:str):\n",
    "    count = df.groupby(column_name).count().reset_index()\\\n",
    "           .sort_values(column_name,ascending=True)[\"prices\"]\n",
    "    \n",
    "    percentages = (count/count.sum())*100\n",
    "    \n",
    "    return np.round(percentages,2),count"
   ]
  },
  {
   "cell_type": "code",
   "execution_count": 30,
   "id": "8ed5c8fb",
   "metadata": {},
   "outputs": [
    {
     "data": {
      "image/png": "[encoded data removed]",
      "text/plain": [
       "<Figure size 500x300 with 1 Axes>"
      ]
     },
     "metadata": {},
     "output_type": "display_data"
    }
   ],
   "source": [
    "stores_percentages,count = find_categorical_percentages(df,\"Number of convenience stores\")\n",
    "\n",
    "a = np.arange(0,11)\n",
    "\n",
    "plt.figure(figsize=(5,3))\n",
    "ax = sns.countplot(x =df[\"Number of convenience stores\"])\n",
    "\n",
    "for index in range(len(stores_percentages)):\n",
    "    ax.text(a[index]-0.4, count[index], stores_percentages[index], size=8)\n",
    "\n",
    "plt.show()"
   ]
  },
  {
   "cell_type": "markdown",
   "id": "dc353a99",
   "metadata": {},
   "source": [
    "**The features are showing meaning and will be valuable for models but certain features like transaction date and house price of unit area should be taken out as it will cause multicollinearity**\n",
    "\n",
    "**Outliers from prices column will be removed using remove_outliers function and distance from nearest metros should be scaled.**\n",
    "\n",
    "**We need to convert the location features i.e, latitude and longitude to a single feature using KMeans clustering to avoid loss of information and increase the accuracy of the model.**"
   ]
  },
  {
   "cell_type": "code",
   "execution_count": 31,
   "id": "dc741362",
   "metadata": {},
   "outputs": [],
   "source": [
    "def processing_data():\n",
    "    \"\"\"\n",
    "    processes and cleans the dataset and returns a cleaned dataframe\n",
    "    \"\"\"\n",
    "    df = loading_data()\n",
    "    # Getting rid of the outliers\n",
    "    df = remove_outliers(dataframe=df,\n",
    "                         column_name=\"prices\")\n",
    "    # feature selection \n",
    "    location = df[['latitude','longitude']]\n",
    "    kmeans = KMeans(4) \n",
    "    df['location'] = kmeans.fit_predict(location)\n",
    "    \n",
    "    # Normalized distance\n",
    "    distance = df['Distance from nearest Metro station (km)'].values.reshape(-1, 1)\n",
    "    scaler = StandardScaler()\n",
    "    distance = scaler.fit_transform(distance)\n",
    "    df['Distance from nearest Metro station (km)'] = distance\n",
    "    \n",
    "    # Normalization of columns\n",
    "    df = scaling_columns(dataframe=df,\n",
    "                         column_names=['Distance from nearest Metro station (km)'])\n",
    "\n",
    "    # Dropping columns\n",
    "    cleaned_df = df.drop(['Transaction date','House price of unit area',\"latitude\", \"longitude\"],\n",
    "                         axis=1)  # Dropping prices per unit area because it is leads to Multicollinearity\n",
    "    return cleaned_df"
   ]
  },
  {
   "cell_type": "code",
   "execution_count": 32,
   "id": "1ad09488",
   "metadata": {},
   "outputs": [],
   "source": [
    "df = processing_data()"
   ]
  },
  {
   "cell_type": "markdown",
   "id": "4c785cda",
   "metadata": {},
   "source": [
    "Checking for Multicollinearity if any left"
   ]
  },
  {
   "cell_type": "code",
   "execution_count": 33,
   "id": "521ae3ee",
   "metadata": {},
   "outputs": [
    {
     "name": "stdout",
     "output_type": "stream",
     "text": [
      "                                    feature       VIF\n",
      "0                                 House Age  2.899301\n",
      "1  Distance from nearest Metro station (km)  1.596017\n",
      "2              Number of convenience stores  3.741587\n",
      "3                        Number of bedrooms  3.876328\n",
      "4                                  location  1.818373\n"
     ]
    }
   ],
   "source": [
    "# VIF dataframe\n",
    "vif_data = pd.DataFrame()\n",
    "vif_data[\"feature\"] = df.drop([\"prices\",\"House size (sqft)\"],axis=1).columns\n",
    "  \n",
    "# calculating VIF for each feature\n",
    "vif_data[\"VIF\"] = [variance_inflation_factor(df.drop([\"prices\",\"House size (sqft)\"],axis=1).values, i)\n",
    "                          for i in range(len(df.drop([\"prices\",\"House size (sqft)\"],axis=1).columns))]\n",
    "  \n",
    "print(vif_data)"
   ]
  },
  {
   "cell_type": "markdown",
   "id": "3077beed",
   "metadata": {},
   "source": [
    "## Creating Models"
   ]
  },
  {
   "cell_type": "markdown",
   "id": "bc120bfb",
   "metadata": {},
   "source": [
    "### Baseline Model (Linear)\n",
    "\n",
    "Assumptions:\n",
    "\n",
    "* Linear relationship.\n",
    "* Multivariate normality.\n",
    "* No or little multicollinearity.\n",
    "* No auto-correlation.\n",
    "* Homoscedasticity."
   ]
  },
  {
   "cell_type": "code",
   "execution_count": 41,
   "id": "5b1a93ef",
   "metadata": {
    "scrolled": true
   },
   "outputs": [
    {
     "name": "stdout",
     "output_type": "stream",
     "text": [
      "accuracy with training data : 83.91%\n",
      "accuracy with Linear model is : 78.98%\n"
     ]
    }
   ],
   "source": [
    "# Create input and target variables\n",
    "X = df.drop(\"prices\",\n",
    "                    axis=1)\n",
    "y = df['prices']\n",
    "X_train, X_test, y_train, y_test = train_test_split(X,\n",
    "                                                    y,\n",
    "                                                    random_state=42,\n",
    "                                                    test_size=0.2)\n",
    "model = LinearRegression()\n",
    "model.fit(X_train, y_train)\n",
    "print(f\"accuracy with training data : {model.score(X_train,y_train) * 100:.2f}%\")\n",
    "print(f\"accuracy with Linear model is : {model.score(X_test, y_test) * 100:.2f}%\")"
   ]
  },
  {
   "cell_type": "markdown",
   "id": "22f2d71c",
   "metadata": {},
   "source": [
    "**Since the prices are left skewed, data is distributed poorly and data is insufficient, linear models are good but not the best choice**\n",
    "\n",
    "Also the Homoscedasticity assumption is not met as their is no proof that the residual term will not vary."
   ]
  },
  {
   "cell_type": "markdown",
   "id": "08a337cf",
   "metadata": {},
   "source": [
    "### Decision tree model"
   ]
  },
  {
   "cell_type": "code",
   "execution_count": 57,
   "id": "7d3811b2",
   "metadata": {},
   "outputs": [
    {
     "name": "stdout",
     "output_type": "stream",
     "text": [
      "Accuracy with training data : 82.96%\n",
      "Accuracy with Decision tree model is : 0.7792410792297728\n"
     ]
    }
   ],
   "source": [
    "# Create input and target variables\n",
    "X = df.drop(\"prices\",\n",
    "                    axis=1)\n",
    "y = df['prices']\n",
    "X_train, X_test, y_train, y_test = train_test_split(X,\n",
    "                                                    y,\n",
    "                                                    random_state=42,\n",
    "                                                    test_size=0.2)\n",
    "tree_model = DecisionTreeRegressor(random_state=42,\n",
    "                                  max_leaf_nodes=9)\n",
    "tree_model.fit(X_train,y_train)\n",
    "\n",
    "print(f\"Accuracy with training data : {tree_model.score(X_train,y_train) * 100:.2f}%\")\n",
    "print(f\"Accuracy with Decision tree model is : {tree_model.score(X_test,y_test)}\")"
   ]
  },
  {
   "cell_type": "markdown",
   "id": "2328fc4e",
   "metadata": {},
   "source": [
    "*We can use a Decision Forests to improve the accuracy* "
   ]
  },
  {
   "cell_type": "markdown",
   "id": "31f23386",
   "metadata": {},
   "source": [
    "### RandomForest Model"
   ]
  },
  {
   "cell_type": "code",
   "execution_count": 37,
   "id": "ca24f59e",
   "metadata": {},
   "outputs": [
    {
     "data": {
      "text/html": [
       "<div>\n",
       "<style scoped>\n",
       "    .dataframe tbody tr th:only-of-type {\n",
       "        vertical-align: middle;\n",
       "    }\n",
       "\n",
       "    .dataframe tbody tr th {\n",
       "        vertical-align: top;\n",
       "    }\n",
       "\n",
       "    .dataframe thead th {\n",
       "        text-align: right;\n",
       "    }\n",
       "</style>\n",
       "<table border=\"1\" class=\"dataframe\">\n",
       "  <thead>\n",
       "    <tr style=\"text-align: right;\">\n",
       "      <th></th>\n",
       "      <th>House Age</th>\n",
       "      <th>Distance from nearest Metro station (km)</th>\n",
       "      <th>Number of convenience stores</th>\n",
       "      <th>Number of bedrooms</th>\n",
       "      <th>House size (sqft)</th>\n",
       "      <th>prices</th>\n",
       "      <th>location</th>\n",
       "    </tr>\n",
       "  </thead>\n",
       "  <tbody>\n",
       "    <tr>\n",
       "      <th>0</th>\n",
       "      <td>32.0</td>\n",
       "      <td>-0.797674</td>\n",
       "      <td>10</td>\n",
       "      <td>1</td>\n",
       "      <td>575</td>\n",
       "      <td>21792.5</td>\n",
       "      <td>0</td>\n",
       "    </tr>\n",
       "    <tr>\n",
       "      <th>1</th>\n",
       "      <td>19.5</td>\n",
       "      <td>-0.622401</td>\n",
       "      <td>9</td>\n",
       "      <td>2</td>\n",
       "      <td>1240</td>\n",
       "      <td>52328.0</td>\n",
       "      <td>0</td>\n",
       "    </tr>\n",
       "    <tr>\n",
       "      <th>2</th>\n",
       "      <td>13.3</td>\n",
       "      <td>-0.420507</td>\n",
       "      <td>5</td>\n",
       "      <td>3</td>\n",
       "      <td>1060</td>\n",
       "      <td>50138.0</td>\n",
       "      <td>0</td>\n",
       "    </tr>\n",
       "    <tr>\n",
       "      <th>3</th>\n",
       "      <td>13.3</td>\n",
       "      <td>-0.420507</td>\n",
       "      <td>5</td>\n",
       "      <td>2</td>\n",
       "      <td>875</td>\n",
       "      <td>47950.0</td>\n",
       "      <td>0</td>\n",
       "    </tr>\n",
       "    <tr>\n",
       "      <th>4</th>\n",
       "      <td>5.0</td>\n",
       "      <td>-0.556017</td>\n",
       "      <td>5</td>\n",
       "      <td>1</td>\n",
       "      <td>491</td>\n",
       "      <td>21162.1</td>\n",
       "      <td>0</td>\n",
       "    </tr>\n",
       "  </tbody>\n",
       "</table>\n",
       "</div>"
      ],
      "text/plain": [
       "   House Age  Distance from nearest Metro station (km)  \\\n",
       "0       32.0                                 -0.797674   \n",
       "1       19.5                                 -0.622401   \n",
       "2       13.3                                 -0.420507   \n",
       "3       13.3                                 -0.420507   \n",
       "4        5.0                                 -0.556017   \n",
       "\n",
       "   Number of convenience stores  Number of bedrooms  House size (sqft)  \\\n",
       "0                            10                   1                575   \n",
       "1                             9                   2               1240   \n",
       "2                             5                   3               1060   \n",
       "3                             5                   2                875   \n",
       "4                             5                   1                491   \n",
       "\n",
       "    prices  location  \n",
       "0  21792.5         0  \n",
       "1  52328.0         0  \n",
       "2  50138.0         0  \n",
       "3  47950.0         0  \n",
       "4  21162.1         0  "
      ]
     },
     "execution_count": 37,
     "metadata": {},
     "output_type": "execute_result"
    }
   ],
   "source": [
    "df.head()"
   ]
  },
  {
   "cell_type": "code",
   "execution_count": 94,
   "id": "7ccd53c6",
   "metadata": {},
   "outputs": [],
   "source": [
    "# Create Input and Target variables\n",
    "X = df.drop(\"prices\",\n",
    "            axis=1)\n",
    "y = df['prices']\n",
    "X_train, X_test, y_train, y_test = train_test_split(X,\n",
    "                                                    y,\n",
    "                                                    random_state=42,\n",
    "                                                    train_size=0.8)\n",
    "\n",
    "# creating a random forest model\n",
    "forest = RandomForestRegressor()\n",
    "\n",
    "#forest.fit(X_train, y_train)\n",
    "\n",
    "#print(f\"Accuracy with training data : {forest.score(X_train,y_train) * 100:.2f}%\")\n",
    "#print(f'\\nAccuracy with the random forest model is : {forest.score(X_test, y_test) * 100:.2f} %')"
   ]
  },
  {
   "cell_type": "code",
   "execution_count": 95,
   "id": "c6bc4b90",
   "metadata": {},
   "outputs": [
    {
     "name": "stdout",
     "output_type": "stream",
     "text": [
      "{'bootstrap': [True, False],\n",
      " 'max_depth': [10, 20, 30, 40, 50, 60, 70, 80, 90, 100, 110, None],\n",
      " 'max_features': ['auto', 'sqrt'],\n",
      " 'min_samples_leaf': [1, 2, 4],\n",
      " 'min_samples_split': [2, 5, 10],\n",
      " 'n_estimators': [200, 400, 600, 800, 1000, 1200, 1400, 1600, 1800, 2000]}\n"
     ]
    }
   ],
   "source": [
    "# Number of trees in random forest\n",
    "n_estimators = [int(x) for x in np.linspace(start = 200, stop = 2000, num = 10)]\n",
    "# Number of features to consider at every split\n",
    "max_features = ['auto', 'sqrt']\n",
    "# Maximum number of levels in tree\n",
    "max_depth = [int(x) for x in np.linspace(10, 110, num = 11)]\n",
    "max_depth.append(None)\n",
    "# Minimum number of samples required to split a node\n",
    "min_samples_split = [2, 5, 10]\n",
    "# Minimum number of samples required at each leaf node\n",
    "min_samples_leaf = [1, 2, 4]\n",
    "# Method of selecting samples for training each tree\n",
    "bootstrap = [True, False]\n",
    "# Create the random grid\n",
    "random_grid = {'n_estimators': n_estimators,\n",
    "               'max_features': max_features,\n",
    "               'max_depth': max_depth,\n",
    "               'min_samples_split': min_samples_split,\n",
    "               'min_samples_leaf': min_samples_leaf,\n",
    "               'bootstrap': bootstrap}\n",
    "pprint(random_grid)"
   ]
  },
  {
   "cell_type": "code",
   "execution_count": 96,
   "id": "9e478163",
   "metadata": {},
   "outputs": [
    {
     "name": "stdout",
     "output_type": "stream",
     "text": [
      "Fitting 3 folds for each of 10 candidates, totalling 30 fits\n"
     ]
    },
    {
     "data": {
      "text/html": [
       "<style>#sk-container-id-3 {color: black;background-color: white;}#sk-container-id-3 pre{padding: 0;}#sk-container-id-3 div.sk-toggleable {background-color: white;}#sk-container-id-3 label.sk-toggleable__label {cursor: pointer;display: block;width: 100%;margin-bottom: 0;padding: 0.3em;box-sizing: border-box;text-align: center;}#sk-container-id-3 label.sk-toggleable__label-arrow:before {content: \"▸\";float: left;margin-right: 0.25em;color: #696969;}#sk-container-id-3 label.sk-toggleable__label-arrow:hover:before {color: black;}#sk-container-id-3 div.sk-estimator:hover label.sk-toggleable__label-arrow:before {color: black;}#sk-container-id-3 div.sk-toggleable__content {max-height: 0;max-width: 0;overflow: hidden;text-align: left;background-color: #f0f8ff;}#sk-container-id-3 div.sk-toggleable__content pre {margin: 0.2em;color: black;border-radius: 0.25em;background-color: #f0f8ff;}#sk-container-id-3 input.sk-toggleable__control:checked~div.sk-toggleable__content {max-height: 200px;max-width: 100%;overflow: auto;}#sk-container-id-3 input.sk-toggleable__control:checked~label.sk-toggleable__label-arrow:before {content: \"▾\";}#sk-container-id-3 div.sk-estimator input.sk-toggleable__control:checked~label.sk-toggleable__label {background-color: #d4ebff;}#sk-container-id-3 div.sk-label input.sk-toggleable__control:checked~label.sk-toggleable__label {background-color: #d4ebff;}#sk-container-id-3 input.sk-hidden--visually {border: 0;clip: rect(1px 1px 1px 1px);clip: rect(1px, 1px, 1px, 1px);height: 1px;margin: -1px;overflow: hidden;padding: 0;position: absolute;width: 1px;}#sk-container-id-3 div.sk-estimator {font-family: monospace;background-color: #f0f8ff;border: 1px dotted black;border-radius: 0.25em;box-sizing: border-box;margin-bottom: 0.5em;}#sk-container-id-3 div.sk-estimator:hover {background-color: #d4ebff;}#sk-container-id-3 div.sk-parallel-item::after {content: \"\";width: 100%;border-bottom: 1px solid gray;flex-grow: 1;}#sk-container-id-3 div.sk-label:hover label.sk-toggleable__label {background-color: #d4ebff;}#sk-container-id-3 div.sk-serial::before {content: \"\";position: absolute;border-left: 1px solid gray;box-sizing: border-box;top: 0;bottom: 0;left: 50%;z-index: 0;}#sk-container-id-3 div.sk-serial {display: flex;flex-direction: column;align-items: center;background-color: white;padding-right: 0.2em;padding-left: 0.2em;position: relative;}#sk-container-id-3 div.sk-item {position: relative;z-index: 1;}#sk-container-id-3 div.sk-parallel {display: flex;align-items: stretch;justify-content: center;background-color: white;position: relative;}#sk-container-id-3 div.sk-item::before, #sk-container-id-3 div.sk-parallel-item::before {content: \"\";position: absolute;border-left: 1px solid gray;box-sizing: border-box;top: 0;bottom: 0;left: 50%;z-index: -1;}#sk-container-id-3 div.sk-parallel-item {display: flex;flex-direction: column;z-index: 1;position: relative;background-color: white;}#sk-container-id-3 div.sk-parallel-item:first-child::after {align-self: flex-end;width: 50%;}#sk-container-id-3 div.sk-parallel-item:last-child::after {align-self: flex-start;width: 50%;}#sk-container-id-3 div.sk-parallel-item:only-child::after {width: 0;}#sk-container-id-3 div.sk-dashed-wrapped {border: 1px dashed gray;margin: 0 0.4em 0.5em 0.4em;box-sizing: border-box;padding-bottom: 0.4em;background-color: white;}#sk-container-id-3 div.sk-label label {font-family: monospace;font-weight: bold;display: inline-block;line-height: 1.2em;}#sk-container-id-3 div.sk-label-container {text-align: center;}#sk-container-id-3 div.sk-container {/* jupyter's `normalize.less` sets `[hidden] { display: none; }` but bootstrap.min.css set `[hidden] { display: none !important; }` so we also need the `!important` here to be able to override the default hidden behavior on the sphinx rendered scikit-learn.org. See: https://github.com/scikit-learn/scikit-learn/issues/21755 */display: inline-block !important;position: relative;}#sk-container-id-3 div.sk-text-repr-fallback {display: none;}</style><div id=\"sk-container-id-3\" class=\"sk-top-container\"><div class=\"sk-text-repr-fallback\"><pre>RandomizedSearchCV(cv=3, estimator=RandomForestRegressor(), n_jobs=-1,\n",
       "                   param_distributions={&#x27;bootstrap&#x27;: [True, False],\n",
       "                                        &#x27;max_depth&#x27;: [10, 20, 30, 40, 50, 60,\n",
       "                                                      70, 80, 90, 100, 110,\n",
       "                                                      None],\n",
       "                                        &#x27;max_features&#x27;: [&#x27;auto&#x27;, &#x27;sqrt&#x27;],\n",
       "                                        &#x27;min_samples_leaf&#x27;: [1, 2, 4],\n",
       "                                        &#x27;min_samples_split&#x27;: [2, 5, 10],\n",
       "                                        &#x27;n_estimators&#x27;: [200, 400, 600, 800,\n",
       "                                                         1000, 1200, 1400, 1600,\n",
       "                                                         1800, 2000]},\n",
       "                   random_state=42, verbose=2)</pre><b>In a Jupyter environment, please rerun this cell to show the HTML representation or trust the notebook. <br />On GitHub, the HTML representation is unable to render, please try loading this page with nbviewer.org.</b></div><div class=\"sk-container\" hidden><div class=\"sk-item sk-dashed-wrapped\"><div class=\"sk-label-container\"><div class=\"sk-label sk-toggleable\"><input class=\"sk-toggleable__control sk-hidden--visually\" id=\"sk-estimator-id-7\" type=\"checkbox\" ><label for=\"sk-estimator-id-7\" class=\"sk-toggleable__label sk-toggleable__label-arrow\">RandomizedSearchCV</label><div class=\"sk-toggleable__content\"><pre>RandomizedSearchCV(cv=3, estimator=RandomForestRegressor(), n_jobs=-1,\n",
       "                   param_distributions={&#x27;bootstrap&#x27;: [True, False],\n",
       "                                        &#x27;max_depth&#x27;: [10, 20, 30, 40, 50, 60,\n",
       "                                                      70, 80, 90, 100, 110,\n",
       "                                                      None],\n",
       "                                        &#x27;max_features&#x27;: [&#x27;auto&#x27;, &#x27;sqrt&#x27;],\n",
       "                                        &#x27;min_samples_leaf&#x27;: [1, 2, 4],\n",
       "                                        &#x27;min_samples_split&#x27;: [2, 5, 10],\n",
       "                                        &#x27;n_estimators&#x27;: [200, 400, 600, 800,\n",
       "                                                         1000, 1200, 1400, 1600,\n",
       "                                                         1800, 2000]},\n",
       "                   random_state=42, verbose=2)</pre></div></div></div><div class=\"sk-parallel\"><div class=\"sk-parallel-item\"><div class=\"sk-item\"><div class=\"sk-label-container\"><div class=\"sk-label sk-toggleable\"><input class=\"sk-toggleable__control sk-hidden--visually\" id=\"sk-estimator-id-8\" type=\"checkbox\" ><label for=\"sk-estimator-id-8\" class=\"sk-toggleable__label sk-toggleable__label-arrow\">estimator: RandomForestRegressor</label><div class=\"sk-toggleable__content\"><pre>RandomForestRegressor()</pre></div></div></div><div class=\"sk-serial\"><div class=\"sk-item\"><div class=\"sk-estimator sk-toggleable\"><input class=\"sk-toggleable__control sk-hidden--visually\" id=\"sk-estimator-id-9\" type=\"checkbox\" ><label for=\"sk-estimator-id-9\" class=\"sk-toggleable__label sk-toggleable__label-arrow\">RandomForestRegressor</label><div class=\"sk-toggleable__content\"><pre>RandomForestRegressor()</pre></div></div></div></div></div></div></div></div></div></div>"
      ],
      "text/plain": [
       "RandomizedSearchCV(cv=3, estimator=RandomForestRegressor(), n_jobs=-1,\n",
       "                   param_distributions={'bootstrap': [True, False],\n",
       "                                        'max_depth': [10, 20, 30, 40, 50, 60,\n",
       "                                                      70, 80, 90, 100, 110,\n",
       "                                                      None],\n",
       "                                        'max_features': ['auto', 'sqrt'],\n",
       "                                        'min_samples_leaf': [1, 2, 4],\n",
       "                                        'min_samples_split': [2, 5, 10],\n",
       "                                        'n_estimators': [200, 400, 600, 800,\n",
       "                                                         1000, 1200, 1400, 1600,\n",
       "                                                         1800, 2000]},\n",
       "                   random_state=42, verbose=2)"
      ]
     },
     "execution_count": 96,
     "metadata": {},
     "output_type": "execute_result"
    }
   ],
   "source": [
    "rf_random = RandomizedSearchCV(estimator = forest, param_distributions = random_grid, n_iter = 10, cv = 3, verbose=2, random_state=42, n_jobs = -1)\n",
    "# Fit the random search model\n",
    "rf_random.fit(X_train,y_train)"
   ]
  },
  {
   "cell_type": "code",
   "execution_count": 99,
   "id": "d21f0691",
   "metadata": {},
   "outputs": [
    {
     "data": {
      "text/plain": [
       "0.8405477810941353"
      ]
     },
     "execution_count": 99,
     "metadata": {},
     "output_type": "execute_result"
    }
   ],
   "source": [
    "rf_random.score(X_test,y_test)"
   ]
  },
  {
   "cell_type": "code",
   "execution_count": 97,
   "id": "cd3a4920",
   "metadata": {
    "scrolled": false
   },
   "outputs": [
    {
     "data": {
      "text/plain": [
       "{'n_estimators': 200,\n",
       " 'min_samples_split': 5,\n",
       " 'min_samples_leaf': 2,\n",
       " 'max_features': 'sqrt',\n",
       " 'max_depth': 10,\n",
       " 'bootstrap': True}"
      ]
     },
     "execution_count": 97,
     "metadata": {},
     "output_type": "execute_result"
    }
   ],
   "source": [
    "rf_random.best_params_"
   ]
  },
  {
   "cell_type": "markdown",
   "id": "675ba79b",
   "metadata": {},
   "source": [
    "Best Accuracy of 84% is achieved through training with a random forest model \n",
    "\n",
    "This model is the best for predictions and it also prevents overfitting which is the problem with the Decision Tree."
   ]
  }
 ],
 "metadata": {
  "kernelspec": {
   "display_name": "Python 3 (ipykernel)",
   "language": "python",
   "name": "python3"
  },
  "language_info": {
   "codemirror_mode": {
    "name": "ipython",
    "version": 3
   },
   "file_extension": ".py",
   "mimetype": "text/x-python",
   "name": "python",
   "nbconvert_exporter": "python",
   "pygments_lexer": "ipython3",
   "version": "3.9.13"
  }
 },
 "nbformat": 4,
 "nbformat_minor": 5
}
