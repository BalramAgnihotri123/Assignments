{
 "cells": [
  {
   "cell_type": "markdown",
   "metadata": {
    "id": "Dnam-Aod_Kjw"
   },
   "source": [
    "# **Objective**\n",
    "\n",
    "*  Match the two most similar products in the two datasets\n",
    "\n",
    "*  Reduce the time complexity"
   ]
  },
  {
   "cell_type": "code",
   "execution_count": 19,
   "metadata": {
    "id": "kdBghRPISLTz"
   },
   "outputs": [
    {
     "name": "stderr",
     "output_type": "stream",
     "text": [
      "\n",
      "[notice] A new release of pip available: 22.3 -> 22.3.1\n",
      "[notice] To update, run: python.exe -m pip install --upgrade pip\n",
      "\n",
      "[notice] A new release of pip available: 22.3 -> 22.3.1\n",
      "[notice] To update, run: python.exe -m pip install --upgrade pip\n"
     ]
    }
   ],
   "source": [
    "!pip install -q fuzzywuzzy\n",
    "!pip install -q sparse_dot_topn"
   ]
  },
  {
   "cell_type": "code",
   "execution_count": 3,
   "metadata": {
    "id": "4wy-313fORNr"
   },
   "outputs": [],
   "source": [
    "import pandas as pd\n",
    "import numpy as np\n",
    "import warnings\n",
    "warnings.filterwarnings(\"ignore\")\n",
    "import dask.dataframe as dd\n",
    "from fuzzywuzzy import fuzz\n",
    "from tqdm.auto import tqdm\n",
    "from scipy.sparse import csr_matrix\n",
    "import sparse_dot_topn.sparse_dot_topn as ct\n",
    "from sklearn.feature_extraction.text import TfidfVectorizer\n",
    "import cv2\n",
    "import ast"
   ]
  },
  {
   "cell_type": "markdown",
   "metadata": {
    "id": "EK8L9zL43prg"
   },
   "source": [
    "### Importing the dataset and putting it inot dask dataframe "
   ]
  },
  {
   "cell_type": "code",
   "execution_count": 5,
   "metadata": {
    "id": "89zbp9W_3kIC"
   },
   "outputs": [],
   "source": [
    "amz = pd.read_csv(\"amz_com-ecommerce_sample.csv\",encoding=\"latin\")\n",
    "flip = pd.read_csv(\"flipkart_com-ecommerce_sample.csv\",encoding=\"latin\")\n",
    "\n",
    "amz = amz.drop_duplicates(\"product_name\",keep='first')\n",
    "flip = flip.drop_duplicates(\"product_name\",keep='first')\n",
    "\n",
    "flip = flip[~flip.retail_price.isna()]\n",
    "amz = amz[~amz.retail_price.isna()]"
   ]
  },
  {
   "cell_type": "markdown",
   "metadata": {
    "id": "ZTa__2oO5ETU"
   },
   "source": [
    "\n",
    "## Everything is **Fuzzy-Wuzzy**\n",
    "\n",
    "The first instinct is to compare the product name strings from both the datasets and if they equate then  *bam*  we have our solution, but....\n",
    "\n",
    "\n",
    "*   ***What if the strings are not the same?***\n",
    "\n",
    "*   ***What if both datasets contain different strings are are not similar whatsoever?*** \n",
    "\n",
    "What if we check how similar the strings are instead of equating them. After exploring for a while I came across `Levenshtein Distance` that calculates how similar two strings are by calculating the minimum edits it will take to convert one string into another. `Levenshtein Distance` and other Variation of this distance are provided by a library called Fuzzy-wuzzy.\n",
    "\n"
   ]
  },
  {
   "cell_type": "code",
   "execution_count": 6,
   "metadata": {
    "colab": {
     "base_uri": "https://localhost:8080/"
    },
    "id": "i0MT9J41AFGi",
    "outputId": "abc69849-a961-44a6-9012-596a524a127f"
   },
   "outputs": [
    {
     "name": "stdout",
     "output_type": "stream",
     "text": [
      "Name of the products: ('Ladela Bellies', 'Ladela Bellies')\n",
      "Similarity between these strings is: 100%\n"
     ]
    }
   ],
   "source": [
    "print(f\"Name of the products: {amz.product_name[10],flip.product_name[10]}\\nSimilarity between these strings is: {fuzz.partial_ratio(amz.product_name[11],flip.product_name[11])}%\")"
   ]
  },
  {
   "cell_type": "markdown",
   "metadata": {
    "id": "gkITnJ0yBFkN"
   },
   "source": [
    "It is very easy to calculate this similarity between to strings. So I tried to calculate minimum distance between two strings across the two dataframes by running a nested loop. But as the time complexity would have it. The tqdm box told me to try something else as this would take around 1 day to run.\n",
    "\n",
    "After some thought, I decided to use dask library for parallel computing and Decrease the time to process the dataset."
   ]
  },
  {
   "cell_type": "code",
   "execution_count": 7,
   "metadata": {
    "id": "x8VP-8TDQRcg"
   },
   "outputs": [],
   "source": [
    "df_amz = dd.from_pandas(amz.product_name, npartitions=6)\n",
    "df_flip = dd.from_pandas(flip.product_name,npartitions=6)"
   ]
  },
  {
   "cell_type": "markdown",
   "metadata": {
    "id": "fO7Lsz-A5jcH"
   },
   "source": [
    "## Cosine Similarity\n",
    "\n",
    "---\n",
    "\n",
    "To understand how consine similarity works, we will first need to get the data in feasible format, which can be done by dividing the strings into n-grams and vectorizing the strings.\n",
    "\n",
    "*  N-grams: N-grams are continuous sequences of words or symbols or tokens in a document. In technical terms, they can be defined as the neighbouring sequences of items in a document. Here, we will create a sequence for every 3 words.\n",
    "\n",
    "*  Vectorizing: Vectorization is a methodology in NLP to map words or phrases from vocabulary to a corresponding vector of real numbers which used to find word predictions, word similarities/semantics. We will map values from amazon dataframe a apply it to flipkart dataset to find the right match."
   ]
  },
  {
   "cell_type": "code",
   "execution_count": 8,
   "metadata": {
    "id": "4v7V9hB8nQfP"
   },
   "outputs": [],
   "source": [
    "# To part a string into combinations of n\n",
    "def ngrams(string,\n",
    "           n=3):\n",
    "    '''\n",
    "    Returns a list of all combinations of n consecutive letters\n",
    "    for a given string.\n",
    "    Args:\n",
    "        string (str): A given string\n",
    "        n      (int): The number of letters to use\n",
    "    Returns:\n",
    "        list: all n letter combinations of the string\n",
    "    '''\n",
    "    string = string.upper()\n",
    "    ngrams = zip(*[string[i:] for i in range(n)])\n",
    "    return [''.join(ngram) for ngram in ngrams]"
   ]
  },
  {
   "cell_type": "markdown",
   "metadata": {
    "id": "KjX117qC9T9V"
   },
   "source": [
    "*  The analyzer is the function that is used to split each app name (string) into smaller bits. \n",
    "\n",
    "*  Gathering all these smaller bits from all entries of the clean DataFrame defines the feature vector. \n",
    "\n",
    "*  If a specific app name contains this bit, then when transforming into a vector it will get a float value at the corresponding position — if not a 0. \n",
    "\n",
    "*  The float value depends on the number of times this bit appears within the app name and the value is modified so that the vector for this app name is normalized (vector norm equal to 1 unit)."
   ]
  },
  {
   "cell_type": "code",
   "execution_count": 9,
   "metadata": {
    "id": "wrc4-4vV3We3"
   },
   "outputs": [],
   "source": [
    "## Vectorizing the strings and to create n buckets (ngrams)\n",
    "vectorizer = TfidfVectorizer(min_df=1, analyzer=ngrams)\n",
    "tf_idf_matrix_df_amz_clean = vectorizer.fit_transform(df_amz)\n",
    "tf_idf_matrix_df_flip_dirty = vectorizer.transform(df_flip)"
   ]
  },
  {
   "cell_type": "markdown",
   "metadata": {
    "id": "EKwUoJVr3ZhK"
   },
   "source": [
    "*  In order to reduce the time taken to complete the cosine similairty on the whole dataset we are going to use sparse matrix multiplication followed by a top n multiplication result selection.\n",
    "\n",
    "*  Here, the sparse_dot_topn package is used, which provides a fast way to perform a sparse matrix multiplication followed by top-n multiplication result selection using Cython. The cosine similarities will be given in a sparse matrix form with rows corresponding to the dirty data-set and columns to the clean one.\n",
    "\n",
    "*  Sparse dot top library source: https://github.com/ing-bank/sparse_dot_topn"
   ]
  },
  {
   "cell_type": "code",
   "execution_count": 10,
   "metadata": {
    "id": "VbFsNcC1olmd"
   },
   "outputs": [],
   "source": [
    "# To calculate Cosine similarity in two vectorized string \n",
    "def awesome_cossim_top(A, B, ntop, lower_bound=0):\n",
    "    # force A and B as a CSR matrix.\n",
    "    # If they have already been CSR, there is no overhead\n",
    "    A = A.tocsr()\n",
    "    B = B.tocsr()\n",
    "    M, _ = A.shape\n",
    "    _, N = B.shape\n",
    " \n",
    "    idx_dtype = np.int32\n",
    " \n",
    "    nnz_max = M*ntop\n",
    " \n",
    "    indptr = np.zeros(M+1, dtype=idx_dtype)\n",
    "    indices = np.zeros(nnz_max, dtype=idx_dtype)\n",
    "    data = np.zeros(nnz_max, dtype=A.dtype)\n",
    "\n",
    "    ct.sparse_dot_topn(\n",
    "        M, N, np.asarray(A.indptr, dtype=idx_dtype),\n",
    "        np.asarray(A.indices, dtype=idx_dtype),\n",
    "        A.data,\n",
    "        np.asarray(B.indptr, dtype=idx_dtype),\n",
    "        np.asarray(B.indices, dtype=idx_dtype),\n",
    "        B.data,\n",
    "        ntop,\n",
    "        lower_bound,\n",
    "        indptr, indices, data)\n",
    "\n",
    "    return csr_matrix((data,indices,indptr),shape=(M,N))"
   ]
  },
  {
   "cell_type": "code",
   "execution_count": 11,
   "metadata": {
    "id": "2fh-AQcFpaVX"
   },
   "outputs": [],
   "source": [
    "# getting best matches with given similarity\n",
    "def get_matches_df(similarity_matrix, A, B):\n",
    "    '''\n",
    "    Takes a matrix with similarity scores and two arrays, A and B,\n",
    "    as an input and returns the matches with the score as a dataframe.\n",
    "    Args:\n",
    "        similarity_matrix (csr_matrix)  : The matrix (dimensions: len(A)*len(B)) with the similarity scores\n",
    "        A              (pandas.Series)  : The array to be matched (dirty)\n",
    "        B              (pandas.Series)  : The baseline array (clean)\n",
    "    Returns:\n",
    "        pandas.Dataframe : Array with matches between A and B plus scores\n",
    "    '''\n",
    "    non_zeros = similarity_matrix.nonzero()\n",
    "\n",
    "    sparserows = non_zeros[0]\n",
    "    sparsecols = non_zeros[1]\n",
    "\n",
    "    nr_matches = sparsecols.size\n",
    "\n",
    "    dirty = np.empty([nr_matches], dtype=object)\n",
    "    clean = np.empty([nr_matches], dtype=object)\n",
    "    similarity = np.zeros(nr_matches)\n",
    "\n",
    "    dirty = np.array(A)[sparserows]\n",
    "    clean = np.array(B)[sparsecols]\n",
    "    similarity = np.array(similarity_matrix.data)\n",
    "\n",
    "    df_tuples = list(zip(dirty, clean, similarity))\n",
    "\n",
    "    return pd.DataFrame(df_tuples, columns=['dirty', 'clean', 'similarity'])"
   ]
  },
  {
   "cell_type": "code",
   "execution_count": 12,
   "metadata": {
    "id": "T7EbfktbqeVy"
   },
   "outputs": [],
   "source": [
    "csr_matrix = awesome_cossim_top(tf_idf_matrix_df_flip_dirty,tf_idf_matrix_df_amz_clean.transpose(),6,0.8)"
   ]
  },
  {
   "cell_type": "code",
   "execution_count": 13,
   "metadata": {
    "id": "mz8f7elOz-ev"
   },
   "outputs": [],
   "source": [
    "df_matched = get_matches_df(csr_matrix,df_flip,df_amz)\\\n",
    "        .drop_duplicates(\"dirty\",keep=\"first\")\\\n",
    "        .reset_index().drop(0).drop(\"index\",axis=1)\\\n",
    "        .drop_duplicates(\"clean\",keep=\"first\")\\\n",
    "        .reset_index().drop(\"index\",axis=1)"
   ]
  },
  {
   "cell_type": "code",
   "execution_count": 21,
   "metadata": {
    "colab": {
     "base_uri": "https://localhost:8080/",
     "height": 206
    },
    "id": "pOpx14kXSpWi",
    "outputId": "8fec5063-279e-45f7-ea8a-6c6dfdc90ec9"
   },
   "outputs": [
    {
     "data": {
      "text/html": [
       "<div>\n",
       "<style scoped>\n",
       "    .dataframe tbody tr th:only-of-type {\n",
       "        vertical-align: middle;\n",
       "    }\n",
       "\n",
       "    .dataframe tbody tr th {\n",
       "        vertical-align: top;\n",
       "    }\n",
       "\n",
       "    .dataframe thead th {\n",
       "        text-align: right;\n",
       "    }\n",
       "</style>\n",
       "<table border=\"1\" class=\"dataframe\">\n",
       "  <thead>\n",
       "    <tr style=\"text-align: right;\">\n",
       "      <th></th>\n",
       "      <th>dirty</th>\n",
       "      <th>clean</th>\n",
       "      <th>similarity</th>\n",
       "    </tr>\n",
       "  </thead>\n",
       "  <tbody>\n",
       "    <tr>\n",
       "      <th>0</th>\n",
       "      <td>FabHomeDecor Fabric Double Sofa Bed</td>\n",
       "      <td>FabHomeDecor Fabric Double Sofa Bed</td>\n",
       "      <td>1.0</td>\n",
       "    </tr>\n",
       "    <tr>\n",
       "      <th>1</th>\n",
       "      <td>AW Bellies</td>\n",
       "      <td>AW Bellies</td>\n",
       "      <td>1.0</td>\n",
       "    </tr>\n",
       "    <tr>\n",
       "      <th>2</th>\n",
       "      <td>Sicons All Purpose Arnica Dog Shampoo</td>\n",
       "      <td>Sicons All Purpose Arnica Dog Shampoo</td>\n",
       "      <td>1.0</td>\n",
       "    </tr>\n",
       "    <tr>\n",
       "      <th>3</th>\n",
       "      <td>Eternal Gandhi Super Series Crystal Paper Weig...</td>\n",
       "      <td>Eternal Gandhi Super Series Crystal Paper Weig...</td>\n",
       "      <td>1.0</td>\n",
       "    </tr>\n",
       "    <tr>\n",
       "      <th>4</th>\n",
       "      <td>dilli bazaaar Bellies, Corporate Casuals, Casuals</td>\n",
       "      <td>dilli bazaaar Bellies, Corporate Casuals, Casuals</td>\n",
       "      <td>1.0</td>\n",
       "    </tr>\n",
       "  </tbody>\n",
       "</table>\n",
       "</div>"
      ],
      "text/plain": [
       "                                               dirty  \\\n",
       "0                FabHomeDecor Fabric Double Sofa Bed   \n",
       "1                                         AW Bellies   \n",
       "2              Sicons All Purpose Arnica Dog Shampoo   \n",
       "3  Eternal Gandhi Super Series Crystal Paper Weig...   \n",
       "4  dilli bazaaar Bellies, Corporate Casuals, Casuals   \n",
       "\n",
       "                                               clean  similarity  \n",
       "0                FabHomeDecor Fabric Double Sofa Bed         1.0  \n",
       "1                                         AW Bellies         1.0  \n",
       "2              Sicons All Purpose Arnica Dog Shampoo         1.0  \n",
       "3  Eternal Gandhi Super Series Crystal Paper Weig...         1.0  \n",
       "4  dilli bazaaar Bellies, Corporate Casuals, Casuals         1.0  "
      ]
     },
     "execution_count": 21,
     "metadata": {},
     "output_type": "execute_result"
    }
   ],
   "source": [
    "df_matched.head()"
   ]
  },
  {
   "cell_type": "markdown",
   "metadata": {
    "id": "YT4i-Y4R8kLw"
   },
   "source": [
    "**Finding the relative values from the respective dataset like retail prices and discounted prices.**"
   ]
  },
  {
   "cell_type": "code",
   "execution_count": 15,
   "metadata": {
    "id": "8B5irhPprFaw"
   },
   "outputs": [],
   "source": [
    "# fetching the price dataset from the original dataset \n",
    "def find_prices(df_matched:pd.DataFrame,\n",
    "                column:str,\n",
    "                df:pd.DataFrame,\n",
    "                ):\n",
    "  retail_price = []\n",
    "  discounted_price = []\n",
    "  productname = []\n",
    "\n",
    "  for i in tqdm(df_matched[column]):\n",
    "    for j,product in enumerate(df.product_name):\n",
    "      if i==product:\n",
    "        productname.append(product)\n",
    "        retail_price.append(df.retail_price.iloc[j])\n",
    "        discounted_price.append(df.discounted_price.iloc[j])\n",
    "      else:\n",
    "        pass\n",
    "  return productname, retail_price, discounted_price"
   ]
  },
  {
   "cell_type": "code",
   "execution_count": 16,
   "metadata": {
    "colab": {
     "base_uri": "https://localhost:8080/",
     "height": 49,
     "referenced_widgets": [
      "c47775fb16d5485ba651add8ec7f89cf",
      "164ccb11f5bb4d7da4c984f08b8ae169",
      "06cc21dfc81f48a59c67f1dd7b40d685",
      "b894e2e43ae24bc180e3c6fa14ca404d",
      "38a87b89b6d2413babab146551aa89a1",
      "29a2787b982a4e149437d2ee2a31ed2c",
      "7a52b23ac33140fdb3fcdb6649841d28",
      "e385509765cb432083f4c718cc7ddfb6",
      "5bf9aeb2a30a4bec8caa37cf1ed41550",
      "2e11fd994fe1433fb033d5af933384b6",
      "208a3129ffc8494d9f1b75681e4c2736"
     ]
    },
    "id": "wPs6WxvOtWj3",
    "outputId": "552286d0-d46a-4f07-ec35-0ce3ad46a8c0"
   },
   "outputs": [
    {
     "data": {
      "application/vnd.jupyter.widget-view+json": {
       "model_id": "fb98ce94cfb34c118c511a1fa6954892",
       "version_major": 2,
       "version_minor": 0
      },
      "text/plain": [
       "  0%|          | 0/12563 [00:00<?, ?it/s]"
      ]
     },
     "metadata": {},
     "output_type": "display_data"
    }
   ],
   "source": [
    "Matched_Dataset = pd.DataFrame()\n",
    "a,b,c = find_prices(df_matched = df_matched,\n",
    "                                  column=\"dirty\",\n",
    "                                  df=flip)\n",
    "\n",
    "Matched_Dataset['Product name in Flipkart']= a\n",
    "Matched_Dataset['Retail Price in Flipkart']= b\n",
    "Matched_Dataset['Discounted Price in Flipkart'] = c"
   ]
  },
  {
   "cell_type": "code",
   "execution_count": 17,
   "metadata": {
    "colab": {
     "base_uri": "https://localhost:8080/",
     "height": 49,
     "referenced_widgets": [
      "bb72825193b74f5aad074aa6af4e2ae8",
      "f43d6a3a7af34f3190c629269c7e3f11",
      "9f7fd433cae04bcbbab665aacfb05148",
      "b7670492405d428c814b3954d94161cf",
      "ca9e4710a24d4ef18525930978946913",
      "e62ca8d28438461dab6797ef29ef01e9",
      "5efe899fdb594d20a7d2a67c6eb2fae3",
      "cf05034dee714776857fd6465280a5a6",
      "bfd1f1d9a1764376b2485d36b33ad54a",
      "da89095d1cdf4d4c8e4eda155ab4ba43",
      "c9f0100bac3a427798eb6982962909ba"
     ]
    },
    "id": "OgicR-hmz4SZ",
    "outputId": "d093567c-cfbc-4a84-a6a8-a67f9dafb3d4"
   },
   "outputs": [
    {
     "data": {
      "application/vnd.jupyter.widget-view+json": {
       "model_id": "f09a1cccecd2400a8508b50e36fbf9c7",
       "version_major": 2,
       "version_minor": 0
      },
      "text/plain": [
       "  0%|          | 0/12563 [00:00<?, ?it/s]"
      ]
     },
     "metadata": {},
     "output_type": "display_data"
    }
   ],
   "source": [
    "a,b,c = find_prices(df_matched = df_matched,\n",
    "                                  column=\"clean\",\n",
    "                                  df=amz)\n",
    "\n",
    "Matched_Dataset['Product name in Amazon']= a\n",
    "Matched_Dataset['Retail Price in Amazon']= b\n",
    "Matched_Dataset['Discounted Price in Amazon'] = c"
   ]
  },
  {
   "cell_type": "code",
   "execution_count": 18,
   "metadata": {
    "colab": {
     "base_uri": "https://localhost:8080/",
     "height": 302
    },
    "id": "keeSvas74i6_",
    "outputId": "e78bf7cc-c0bb-4a13-fb68-06d55c18e713"
   },
   "outputs": [
    {
     "data": {
      "text/html": [
       "<div>\n",
       "<style scoped>\n",
       "    .dataframe tbody tr th:only-of-type {\n",
       "        vertical-align: middle;\n",
       "    }\n",
       "\n",
       "    .dataframe tbody tr th {\n",
       "        vertical-align: top;\n",
       "    }\n",
       "\n",
       "    .dataframe thead th {\n",
       "        text-align: right;\n",
       "    }\n",
       "</style>\n",
       "<table border=\"1\" class=\"dataframe\">\n",
       "  <thead>\n",
       "    <tr style=\"text-align: right;\">\n",
       "      <th></th>\n",
       "      <th>Product name in Flipkart</th>\n",
       "      <th>Retail Price in Flipkart</th>\n",
       "      <th>Discounted Price in Flipkart</th>\n",
       "      <th>Product name in Amazon</th>\n",
       "      <th>Retail Price in Amazon</th>\n",
       "      <th>Discounted Price in Amazon</th>\n",
       "    </tr>\n",
       "  </thead>\n",
       "  <tbody>\n",
       "    <tr>\n",
       "      <th>0</th>\n",
       "      <td>FabHomeDecor Fabric Double Sofa Bed</td>\n",
       "      <td>32157.0</td>\n",
       "      <td>22646.0</td>\n",
       "      <td>FabHomeDecor Fabric Double Sofa Bed</td>\n",
       "      <td>32143</td>\n",
       "      <td>29121</td>\n",
       "    </tr>\n",
       "    <tr>\n",
       "      <th>1</th>\n",
       "      <td>AW Bellies</td>\n",
       "      <td>999.0</td>\n",
       "      <td>499.0</td>\n",
       "      <td>AW Bellies</td>\n",
       "      <td>991</td>\n",
       "      <td>551</td>\n",
       "    </tr>\n",
       "    <tr>\n",
       "      <th>2</th>\n",
       "      <td>Sicons All Purpose Arnica Dog Shampoo</td>\n",
       "      <td>220.0</td>\n",
       "      <td>210.0</td>\n",
       "      <td>Sicons All Purpose Arnica Dog Shampoo</td>\n",
       "      <td>208</td>\n",
       "      <td>258</td>\n",
       "    </tr>\n",
       "    <tr>\n",
       "      <th>3</th>\n",
       "      <td>Eternal Gandhi Super Series Crystal Paper Weig...</td>\n",
       "      <td>430.0</td>\n",
       "      <td>430.0</td>\n",
       "      <td>Eternal Gandhi Super Series Crystal Paper Weig...</td>\n",
       "      <td>427</td>\n",
       "      <td>473</td>\n",
       "    </tr>\n",
       "    <tr>\n",
       "      <th>4</th>\n",
       "      <td>dilli bazaaar Bellies, Corporate Casuals, Casuals</td>\n",
       "      <td>699.0</td>\n",
       "      <td>349.0</td>\n",
       "      <td>dilli bazaaar Bellies, Corporate Casuals, Casuals</td>\n",
       "      <td>682</td>\n",
       "      <td>385</td>\n",
       "    </tr>\n",
       "  </tbody>\n",
       "</table>\n",
       "</div>"
      ],
      "text/plain": [
       "                            Product name in Flipkart  \\\n",
       "0                FabHomeDecor Fabric Double Sofa Bed   \n",
       "1                                         AW Bellies   \n",
       "2              Sicons All Purpose Arnica Dog Shampoo   \n",
       "3  Eternal Gandhi Super Series Crystal Paper Weig...   \n",
       "4  dilli bazaaar Bellies, Corporate Casuals, Casuals   \n",
       "\n",
       "   Retail Price in Flipkart  Discounted Price in Flipkart  \\\n",
       "0                   32157.0                       22646.0   \n",
       "1                     999.0                         499.0   \n",
       "2                     220.0                         210.0   \n",
       "3                     430.0                         430.0   \n",
       "4                     699.0                         349.0   \n",
       "\n",
       "                              Product name in Amazon  Retail Price in Amazon  \\\n",
       "0                FabHomeDecor Fabric Double Sofa Bed                   32143   \n",
       "1                                         AW Bellies                     991   \n",
       "2              Sicons All Purpose Arnica Dog Shampoo                     208   \n",
       "3  Eternal Gandhi Super Series Crystal Paper Weig...                     427   \n",
       "4  dilli bazaaar Bellies, Corporate Casuals, Casuals                     682   \n",
       "\n",
       "   Discounted Price in Amazon  \n",
       "0                       29121  \n",
       "1                         551  \n",
       "2                         258  \n",
       "3                         473  \n",
       "4                         385  "
      ]
     },
     "execution_count": 18,
     "metadata": {},
     "output_type": "execute_result"
    }
   ],
   "source": [
    "Matched_Dataset.head()"
   ]
  },
  {
   "cell_type": "markdown",
   "metadata": {
    "id": "yT01mocl5ANk"
   },
   "source": [
    "## **Another Solution** (Image matching)\n",
    "\n",
    "There are other ways that can be used to find the similar string and match them from the given dataset one of which being Image matching using `templete matching` from *OpenCV* \n",
    "\n",
    "The Template Matching module includes different methods of calculating correlations, one of them being a normalized calculation, returning values between 0 (no similarity) to 1 (completely identical images):\n",
    "\n",
    "`corr = cv2.matchTemplate(group1_image, group2_image, \n",
    "                        cv2.TM_CCOEFF_NORMED)`\n",
    "\n",
    "**Complexity**\n",
    "\n",
    "Since we’re comparing every pair of images, the complexity of the algorithm is O(n*m), n being the number of images in group one, and m being the number of images in group two. Can we make the algorithm more efficient?\n",
    "\n",
    "As the above function returns values close to 1 for similar images, we can set a threshold (e.g. 0.9) for which there’s no need to keep on searching for a match if one is found. In addition, if a match is found, we’ll remove the matched images from our search. For example, if in the first iteration we are comparing an image from group one with 4 images from group two, on the second iteration we’ll do a comparison with only 3 images, and so on.\n",
    "\n"
   ]
  }
 ],
 "metadata": {
  "colab": {
   "provenance": []
  },
  "kernelspec": {
   "display_name": "Python 3 (ipykernel)",
   "language": "python",
   "name": "python3"
  },
  "language_info": {
   "codemirror_mode": {
    "name": "ipython",
    "version": 3
   },
   "file_extension": ".py",
   "mimetype": "text/x-python",
   "name": "python",
   "nbconvert_exporter": "python",
   "pygments_lexer": "ipython3",
   "version": "3.9.13"
  },
  "widgets": {
   "application/vnd.jupyter.widget-state+json": {
    "06cc21dfc81f48a59c67f1dd7b40d685": {
     "model_module": "@jupyter-widgets/controls",
     "model_module_version": "1.5.0",
     "model_name": "FloatProgressModel",
     "state": {
      "_dom_classes": [],
      "_model_module": "@jupyter-widgets/controls",
      "_model_module_version": "1.5.0",
      "_model_name": "FloatProgressModel",
      "_view_count": null,
      "_view_module": "@jupyter-widgets/controls",
      "_view_module_version": "1.5.0",
      "_view_name": "ProgressView",
      "bar_style": "success",
      "description": "",
      "description_tooltip": null,
      "layout": "IPY_MODEL_e385509765cb432083f4c718cc7ddfb6",
      "max": 12563,
      "min": 0,
      "orientation": "horizontal",
      "style": "IPY_MODEL_5bf9aeb2a30a4bec8caa37cf1ed41550",
      "value": 12563
     }
    },
    "164ccb11f5bb4d7da4c984f08b8ae169": {
     "model_module": "@jupyter-widgets/controls",
     "model_module_version": "1.5.0",
     "model_name": "HTMLModel",
     "state": {
      "_dom_classes": [],
      "_model_module": "@jupyter-widgets/controls",
      "_model_module_version": "1.5.0",
      "_model_name": "HTMLModel",
      "_view_count": null,
      "_view_module": "@jupyter-widgets/controls",
      "_view_module_version": "1.5.0",
      "_view_name": "HTMLView",
      "description": "",
      "description_tooltip": null,
      "layout": "IPY_MODEL_29a2787b982a4e149437d2ee2a31ed2c",
      "placeholder": "​",
      "style": "IPY_MODEL_7a52b23ac33140fdb3fcdb6649841d28",
      "value": "100%"
     }
    },
    "208a3129ffc8494d9f1b75681e4c2736": {
     "model_module": "@jupyter-widgets/controls",
     "model_module_version": "1.5.0",
     "model_name": "DescriptionStyleModel",
     "state": {
      "_model_module": "@jupyter-widgets/controls",
      "_model_module_version": "1.5.0",
      "_model_name": "DescriptionStyleModel",
      "_view_count": null,
      "_view_module": "@jupyter-widgets/base",
      "_view_module_version": "1.2.0",
      "_view_name": "StyleView",
      "description_width": ""
     }
    },
    "29a2787b982a4e149437d2ee2a31ed2c": {
     "model_module": "@jupyter-widgets/base",
     "model_module_version": "1.2.0",
     "model_name": "LayoutModel",
     "state": {
      "_model_module": "@jupyter-widgets/base",
      "_model_module_version": "1.2.0",
      "_model_name": "LayoutModel",
      "_view_count": null,
      "_view_module": "@jupyter-widgets/base",
      "_view_module_version": "1.2.0",
      "_view_name": "LayoutView",
      "align_content": null,
      "align_items": null,
      "align_self": null,
      "border": null,
      "bottom": null,
      "display": null,
      "flex": null,
      "flex_flow": null,
      "grid_area": null,
      "grid_auto_columns": null,
      "grid_auto_flow": null,
      "grid_auto_rows": null,
      "grid_column": null,
      "grid_gap": null,
      "grid_row": null,
      "grid_template_areas": null,
      "grid_template_columns": null,
      "grid_template_rows": null,
      "height": null,
      "justify_content": null,
      "justify_items": null,
      "left": null,
      "margin": null,
      "max_height": null,
      "max_width": null,
      "min_height": null,
      "min_width": null,
      "object_fit": null,
      "object_position": null,
      "order": null,
      "overflow": null,
      "overflow_x": null,
      "overflow_y": null,
      "padding": null,
      "right": null,
      "top": null,
      "visibility": null,
      "width": null
     }
    },
    "2e11fd994fe1433fb033d5af933384b6": {
     "model_module": "@jupyter-widgets/base",
     "model_module_version": "1.2.0",
     "model_name": "LayoutModel",
     "state": {
      "_model_module": "@jupyter-widgets/base",
      "_model_module_version": "1.2.0",
      "_model_name": "LayoutModel",
      "_view_count": null,
      "_view_module": "@jupyter-widgets/base",
      "_view_module_version": "1.2.0",
      "_view_name": "LayoutView",
      "align_content": null,
      "align_items": null,
      "align_self": null,
      "border": null,
      "bottom": null,
      "display": null,
      "flex": null,
      "flex_flow": null,
      "grid_area": null,
      "grid_auto_columns": null,
      "grid_auto_flow": null,
      "grid_auto_rows": null,
      "grid_column": null,
      "grid_gap": null,
      "grid_row": null,
      "grid_template_areas": null,
      "grid_template_columns": null,
      "grid_template_rows": null,
      "height": null,
      "justify_content": null,
      "justify_items": null,
      "left": null,
      "margin": null,
      "max_height": null,
      "max_width": null,
      "min_height": null,
      "min_width": null,
      "object_fit": null,
      "object_position": null,
      "order": null,
      "overflow": null,
      "overflow_x": null,
      "overflow_y": null,
      "padding": null,
      "right": null,
      "top": null,
      "visibility": null,
      "width": null
     }
    },
    "38a87b89b6d2413babab146551aa89a1": {
     "model_module": "@jupyter-widgets/base",
     "model_module_version": "1.2.0",
     "model_name": "LayoutModel",
     "state": {
      "_model_module": "@jupyter-widgets/base",
      "_model_module_version": "1.2.0",
      "_model_name": "LayoutModel",
      "_view_count": null,
      "_view_module": "@jupyter-widgets/base",
      "_view_module_version": "1.2.0",
      "_view_name": "LayoutView",
      "align_content": null,
      "align_items": null,
      "align_self": null,
      "border": null,
      "bottom": null,
      "display": null,
      "flex": null,
      "flex_flow": null,
      "grid_area": null,
      "grid_auto_columns": null,
      "grid_auto_flow": null,
      "grid_auto_rows": null,
      "grid_column": null,
      "grid_gap": null,
      "grid_row": null,
      "grid_template_areas": null,
      "grid_template_columns": null,
      "grid_template_rows": null,
      "height": null,
      "justify_content": null,
      "justify_items": null,
      "left": null,
      "margin": null,
      "max_height": null,
      "max_width": null,
      "min_height": null,
      "min_width": null,
      "object_fit": null,
      "object_position": null,
      "order": null,
      "overflow": null,
      "overflow_x": null,
      "overflow_y": null,
      "padding": null,
      "right": null,
      "top": null,
      "visibility": null,
      "width": null
     }
    },
    "5bf9aeb2a30a4bec8caa37cf1ed41550": {
     "model_module": "@jupyter-widgets/controls",
     "model_module_version": "1.5.0",
     "model_name": "ProgressStyleModel",
     "state": {
      "_model_module": "@jupyter-widgets/controls",
      "_model_module_version": "1.5.0",
      "_model_name": "ProgressStyleModel",
      "_view_count": null,
      "_view_module": "@jupyter-widgets/base",
      "_view_module_version": "1.2.0",
      "_view_name": "StyleView",
      "bar_color": null,
      "description_width": ""
     }
    },
    "5efe899fdb594d20a7d2a67c6eb2fae3": {
     "model_module": "@jupyter-widgets/controls",
     "model_module_version": "1.5.0",
     "model_name": "DescriptionStyleModel",
     "state": {
      "_model_module": "@jupyter-widgets/controls",
      "_model_module_version": "1.5.0",
      "_model_name": "DescriptionStyleModel",
      "_view_count": null,
      "_view_module": "@jupyter-widgets/base",
      "_view_module_version": "1.2.0",
      "_view_name": "StyleView",
      "description_width": ""
     }
    },
    "7a52b23ac33140fdb3fcdb6649841d28": {
     "model_module": "@jupyter-widgets/controls",
     "model_module_version": "1.5.0",
     "model_name": "DescriptionStyleModel",
     "state": {
      "_model_module": "@jupyter-widgets/controls",
      "_model_module_version": "1.5.0",
      "_model_name": "DescriptionStyleModel",
      "_view_count": null,
      "_view_module": "@jupyter-widgets/base",
      "_view_module_version": "1.2.0",
      "_view_name": "StyleView",
      "description_width": ""
     }
    },
    "9f7fd433cae04bcbbab665aacfb05148": {
     "model_module": "@jupyter-widgets/controls",
     "model_module_version": "1.5.0",
     "model_name": "FloatProgressModel",
     "state": {
      "_dom_classes": [],
      "_model_module": "@jupyter-widgets/controls",
      "_model_module_version": "1.5.0",
      "_model_name": "FloatProgressModel",
      "_view_count": null,
      "_view_module": "@jupyter-widgets/controls",
      "_view_module_version": "1.5.0",
      "_view_name": "ProgressView",
      "bar_style": "success",
      "description": "",
      "description_tooltip": null,
      "layout": "IPY_MODEL_cf05034dee714776857fd6465280a5a6",
      "max": 12563,
      "min": 0,
      "orientation": "horizontal",
      "style": "IPY_MODEL_bfd1f1d9a1764376b2485d36b33ad54a",
      "value": 12563
     }
    },
    "b7670492405d428c814b3954d94161cf": {
     "model_module": "@jupyter-widgets/controls",
     "model_module_version": "1.5.0",
     "model_name": "HTMLModel",
     "state": {
      "_dom_classes": [],
      "_model_module": "@jupyter-widgets/controls",
      "_model_module_version": "1.5.0",
      "_model_name": "HTMLModel",
      "_view_count": null,
      "_view_module": "@jupyter-widgets/controls",
      "_view_module_version": "1.5.0",
      "_view_name": "HTMLView",
      "description": "",
      "description_tooltip": null,
      "layout": "IPY_MODEL_da89095d1cdf4d4c8e4eda155ab4ba43",
      "placeholder": "​",
      "style": "IPY_MODEL_c9f0100bac3a427798eb6982962909ba",
      "value": " 12563/12563 [00:33&lt;00:00, 457.12it/s]"
     }
    },
    "b894e2e43ae24bc180e3c6fa14ca404d": {
     "model_module": "@jupyter-widgets/controls",
     "model_module_version": "1.5.0",
     "model_name": "HTMLModel",
     "state": {
      "_dom_classes": [],
      "_model_module": "@jupyter-widgets/controls",
      "_model_module_version": "1.5.0",
      "_model_name": "HTMLModel",
      "_view_count": null,
      "_view_module": "@jupyter-widgets/controls",
      "_view_module_version": "1.5.0",
      "_view_name": "HTMLView",
      "description": "",
      "description_tooltip": null,
      "layout": "IPY_MODEL_2e11fd994fe1433fb033d5af933384b6",
      "placeholder": "​",
      "style": "IPY_MODEL_208a3129ffc8494d9f1b75681e4c2736",
      "value": " 12563/12563 [00:48&lt;00:00, 229.73it/s]"
     }
    },
    "bb72825193b74f5aad074aa6af4e2ae8": {
     "model_module": "@jupyter-widgets/controls",
     "model_module_version": "1.5.0",
     "model_name": "HBoxModel",
     "state": {
      "_dom_classes": [],
      "_model_module": "@jupyter-widgets/controls",
      "_model_module_version": "1.5.0",
      "_model_name": "HBoxModel",
      "_view_count": null,
      "_view_module": "@jupyter-widgets/controls",
      "_view_module_version": "1.5.0",
      "_view_name": "HBoxView",
      "box_style": "",
      "children": [
       "IPY_MODEL_f43d6a3a7af34f3190c629269c7e3f11",
       "IPY_MODEL_9f7fd433cae04bcbbab665aacfb05148",
       "IPY_MODEL_b7670492405d428c814b3954d94161cf"
      ],
      "layout": "IPY_MODEL_ca9e4710a24d4ef18525930978946913"
     }
    },
    "bfd1f1d9a1764376b2485d36b33ad54a": {
     "model_module": "@jupyter-widgets/controls",
     "model_module_version": "1.5.0",
     "model_name": "ProgressStyleModel",
     "state": {
      "_model_module": "@jupyter-widgets/controls",
      "_model_module_version": "1.5.0",
      "_model_name": "ProgressStyleModel",
      "_view_count": null,
      "_view_module": "@jupyter-widgets/base",
      "_view_module_version": "1.2.0",
      "_view_name": "StyleView",
      "bar_color": null,
      "description_width": ""
     }
    },
    "c47775fb16d5485ba651add8ec7f89cf": {
     "model_module": "@jupyter-widgets/controls",
     "model_module_version": "1.5.0",
     "model_name": "HBoxModel",
     "state": {
      "_dom_classes": [],
      "_model_module": "@jupyter-widgets/controls",
      "_model_module_version": "1.5.0",
      "_model_name": "HBoxModel",
      "_view_count": null,
      "_view_module": "@jupyter-widgets/controls",
      "_view_module_version": "1.5.0",
      "_view_name": "HBoxView",
      "box_style": "",
      "children": [
       "IPY_MODEL_164ccb11f5bb4d7da4c984f08b8ae169",
       "IPY_MODEL_06cc21dfc81f48a59c67f1dd7b40d685",
       "IPY_MODEL_b894e2e43ae24bc180e3c6fa14ca404d"
      ],
      "layout": "IPY_MODEL_38a87b89b6d2413babab146551aa89a1"
     }
    },
    "c9f0100bac3a427798eb6982962909ba": {
     "model_module": "@jupyter-widgets/controls",
     "model_module_version": "1.5.0",
     "model_name": "DescriptionStyleModel",
     "state": {
      "_model_module": "@jupyter-widgets/controls",
      "_model_module_version": "1.5.0",
      "_model_name": "DescriptionStyleModel",
      "_view_count": null,
      "_view_module": "@jupyter-widgets/base",
      "_view_module_version": "1.2.0",
      "_view_name": "StyleView",
      "description_width": ""
     }
    },
    "ca9e4710a24d4ef18525930978946913": {
     "model_module": "@jupyter-widgets/base",
     "model_module_version": "1.2.0",
     "model_name": "LayoutModel",
     "state": {
      "_model_module": "@jupyter-widgets/base",
      "_model_module_version": "1.2.0",
      "_model_name": "LayoutModel",
      "_view_count": null,
      "_view_module": "@jupyter-widgets/base",
      "_view_module_version": "1.2.0",
      "_view_name": "LayoutView",
      "align_content": null,
      "align_items": null,
      "align_self": null,
      "border": null,
      "bottom": null,
      "display": null,
      "flex": null,
      "flex_flow": null,
      "grid_area": null,
      "grid_auto_columns": null,
      "grid_auto_flow": null,
      "grid_auto_rows": null,
      "grid_column": null,
      "grid_gap": null,
      "grid_row": null,
      "grid_template_areas": null,
      "grid_template_columns": null,
      "grid_template_rows": null,
      "height": null,
      "justify_content": null,
      "justify_items": null,
      "left": null,
      "margin": null,
      "max_height": null,
      "max_width": null,
      "min_height": null,
      "min_width": null,
      "object_fit": null,
      "object_position": null,
      "order": null,
      "overflow": null,
      "overflow_x": null,
      "overflow_y": null,
      "padding": null,
      "right": null,
      "top": null,
      "visibility": null,
      "width": null
     }
    },
    "cf05034dee714776857fd6465280a5a6": {
     "model_module": "@jupyter-widgets/base",
     "model_module_version": "1.2.0",
     "model_name": "LayoutModel",
     "state": {
      "_model_module": "@jupyter-widgets/base",
      "_model_module_version": "1.2.0",
      "_model_name": "LayoutModel",
      "_view_count": null,
      "_view_module": "@jupyter-widgets/base",
      "_view_module_version": "1.2.0",
      "_view_name": "LayoutView",
      "align_content": null,
      "align_items": null,
      "align_self": null,
      "border": null,
      "bottom": null,
      "display": null,
      "flex": null,
      "flex_flow": null,
      "grid_area": null,
      "grid_auto_columns": null,
      "grid_auto_flow": null,
      "grid_auto_rows": null,
      "grid_column": null,
      "grid_gap": null,
      "grid_row": null,
      "grid_template_areas": null,
      "grid_template_columns": null,
      "grid_template_rows": null,
      "height": null,
      "justify_content": null,
      "justify_items": null,
      "left": null,
      "margin": null,
      "max_height": null,
      "max_width": null,
      "min_height": null,
      "min_width": null,
      "object_fit": null,
      "object_position": null,
      "order": null,
      "overflow": null,
      "overflow_x": null,
      "overflow_y": null,
      "padding": null,
      "right": null,
      "top": null,
      "visibility": null,
      "width": null
     }
    },
    "da89095d1cdf4d4c8e4eda155ab4ba43": {
     "model_module": "@jupyter-widgets/base",
     "model_module_version": "1.2.0",
     "model_name": "LayoutModel",
     "state": {
      "_model_module": "@jupyter-widgets/base",
      "_model_module_version": "1.2.0",
      "_model_name": "LayoutModel",
      "_view_count": null,
      "_view_module": "@jupyter-widgets/base",
      "_view_module_version": "1.2.0",
      "_view_name": "LayoutView",
      "align_content": null,
      "align_items": null,
      "align_self": null,
      "border": null,
      "bottom": null,
      "display": null,
      "flex": null,
      "flex_flow": null,
      "grid_area": null,
      "grid_auto_columns": null,
      "grid_auto_flow": null,
      "grid_auto_rows": null,
      "grid_column": null,
      "grid_gap": null,
      "grid_row": null,
      "grid_template_areas": null,
      "grid_template_columns": null,
      "grid_template_rows": null,
      "height": null,
      "justify_content": null,
      "justify_items": null,
      "left": null,
      "margin": null,
      "max_height": null,
      "max_width": null,
      "min_height": null,
      "min_width": null,
      "object_fit": null,
      "object_position": null,
      "order": null,
      "overflow": null,
      "overflow_x": null,
      "overflow_y": null,
      "padding": null,
      "right": null,
      "top": null,
      "visibility": null,
      "width": null
     }
    },
    "e385509765cb432083f4c718cc7ddfb6": {
     "model_module": "@jupyter-widgets/base",
     "model_module_version": "1.2.0",
     "model_name": "LayoutModel",
     "state": {
      "_model_module": "@jupyter-widgets/base",
      "_model_module_version": "1.2.0",
      "_model_name": "LayoutModel",
      "_view_count": null,
      "_view_module": "@jupyter-widgets/base",
      "_view_module_version": "1.2.0",
      "_view_name": "LayoutView",
      "align_content": null,
      "align_items": null,
      "align_self": null,
      "border": null,
      "bottom": null,
      "display": null,
      "flex": null,
      "flex_flow": null,
      "grid_area": null,
      "grid_auto_columns": null,
      "grid_auto_flow": null,
      "grid_auto_rows": null,
      "grid_column": null,
      "grid_gap": null,
      "grid_row": null,
      "grid_template_areas": null,
      "grid_template_columns": null,
      "grid_template_rows": null,
      "height": null,
      "justify_content": null,
      "justify_items": null,
      "left": null,
      "margin": null,
      "max_height": null,
      "max_width": null,
      "min_height": null,
      "min_width": null,
      "object_fit": null,
      "object_position": null,
      "order": null,
      "overflow": null,
      "overflow_x": null,
      "overflow_y": null,
      "padding": null,
      "right": null,
      "top": null,
      "visibility": null,
      "width": null
     }
    },
    "e62ca8d28438461dab6797ef29ef01e9": {
     "model_module": "@jupyter-widgets/base",
     "model_module_version": "1.2.0",
     "model_name": "LayoutModel",
     "state": {
      "_model_module": "@jupyter-widgets/base",
      "_model_module_version": "1.2.0",
      "_model_name": "LayoutModel",
      "_view_count": null,
      "_view_module": "@jupyter-widgets/base",
      "_view_module_version": "1.2.0",
      "_view_name": "LayoutView",
      "align_content": null,
      "align_items": null,
      "align_self": null,
      "border": null,
      "bottom": null,
      "display": null,
      "flex": null,
      "flex_flow": null,
      "grid_area": null,
      "grid_auto_columns": null,
      "grid_auto_flow": null,
      "grid_auto_rows": null,
      "grid_column": null,
      "grid_gap": null,
      "grid_row": null,
      "grid_template_areas": null,
      "grid_template_columns": null,
      "grid_template_rows": null,
      "height": null,
      "justify_content": null,
      "justify_items": null,
      "left": null,
      "margin": null,
      "max_height": null,
      "max_width": null,
      "min_height": null,
      "min_width": null,
      "object_fit": null,
      "object_position": null,
      "order": null,
      "overflow": null,
      "overflow_x": null,
      "overflow_y": null,
      "padding": null,
      "right": null,
      "top": null,
      "visibility": null,
      "width": null
     }
    },
    "f43d6a3a7af34f3190c629269c7e3f11": {
     "model_module": "@jupyter-widgets/controls",
     "model_module_version": "1.5.0",
     "model_name": "HTMLModel",
     "state": {
      "_dom_classes": [],
      "_model_module": "@jupyter-widgets/controls",
      "_model_module_version": "1.5.0",
      "_model_name": "HTMLModel",
      "_view_count": null,
      "_view_module": "@jupyter-widgets/controls",
      "_view_module_version": "1.5.0",
      "_view_name": "HTMLView",
      "description": "",
      "description_tooltip": null,
      "layout": "IPY_MODEL_e62ca8d28438461dab6797ef29ef01e9",
      "placeholder": "​",
      "style": "IPY_MODEL_5efe899fdb594d20a7d2a67c6eb2fae3",
      "value": "100%"
     }
    }
   }
  }
 },
 "nbformat": 4,
 "nbformat_minor": 1
}
